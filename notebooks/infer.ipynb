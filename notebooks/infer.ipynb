{
 "cells": [
  {
   "cell_type": "markdown",
   "id": "93cd003f",
   "metadata": {},
   "source": [
    "# Test model in notebook"
   ]
  },
  {
   "cell_type": "code",
   "execution_count": null,
   "id": "a8aabcb9",
   "metadata": {},
   "outputs": [],
   "source": [
    "from typing import Any, Dict\n",
    "from sklearn.pipeline import Pipeline\n",
    "import pandas as pd\n",
    "import joblib"
   ]
  },
  {
   "cell_type": "code",
   "execution_count": null,
   "id": "38e5bb4a",
   "metadata": {},
   "outputs": [],
   "source": [
    "def validate_payload(payload: Dict[str, Any]) -> None:\n",
    "    \"\"\"\n",
    "    Validate the input payload for stroke prediction.\n",
    "    Raises ValueError if something is missing or invalid.\n",
    "    \"\"\"\n",
    "    # expected schema\n",
    "    expected_fields = {\n",
    "        \"gender\": [\"Male\", \"Female\", \"Other\"],\n",
    "        \"age\": (0, 120),\n",
    "        \"ever_married\": [\"Yes\", \"No\"],\n",
    "        \"work_type\": [\"Private\", \"Self-employed\", \"Govt_job\", \"children\", \"Never_worked\"],\n",
    "        \"Residence_type\": [\"Urban\", \"Rural\"],\n",
    "        \"avg_glucose_level\": (0, 400),\n",
    "        \"bmi\": (10, 100),\n",
    "        \"smoking_status\": [\"formerly smoked\", \"never smoked\", \"smokes\"],\n",
    "        \"hypertension\": [0,1],\n",
    "        \"heart_disease\": [0,1],\n",
    "    }\n",
    "\n",
    "    # check for missing keys\n",
    "    missing = [k for k in expected_fields if k not in payload]\n",
    "    if missing:\n",
    "        raise ValueError(f\"Missing keys in payload: {missing}\")\n",
    "\n",
    "    # check for unexpected keys\n",
    "    extras = [k for k in payload if k not in expected_fields]\n",
    "    if extras:\n",
    "        raise ValueError(f\"Unexpected keys in payload: {extras}\")\n",
    "\n",
    "    # type and value validation\n",
    "    validated = {}\n",
    "    for key, rule in expected_fields.items():\n",
    "        value = payload[key]\n",
    "        if isinstance(rule, tuple):  # numeric range\n",
    "            if not isinstance(value, (int, float)):\n",
    "                raise ValueError(f\"{key} must be numeric, got {type(value).__name__}\")\n",
    "            low, high = rule\n",
    "            if not (low <= value <= high):\n",
    "                raise ValueError(f\"{key}={value} outside plausible range {rule}\")\n",
    "            validated[key] = float(value)\n",
    "        elif isinstance(rule, list):  # categorical choices\n",
    "            if value not in rule:\n",
    "                raise ValueError(f\"{key} must be one of {rule}, got '{value}'\")\n",
    "            validated[key] = value\n",
    "        else:\n",
    "            raise ValueError(f\"Internal schema error for {key}\")\n",
    "\n",
    "\n",
    "def get_stroke_prob(model: Pipeline, payload: Dict[str, Any]) -> float:\n",
    "    X = pd.DataFrame([payload])\n",
    "    proba = float(model.predict_proba(X)[:, 1][0])\n",
    "    return proba"
   ]
  },
  {
   "cell_type": "code",
   "execution_count": null,
   "id": "3050c6bc",
   "metadata": {},
   "outputs": [],
   "source": [
    "model = joblib.load(\"../models/log_reg_model.joblib\")"
   ]
  },
  {
   "cell_type": "code",
   "execution_count": null,
   "id": "47a5cde1",
   "metadata": {},
   "outputs": [],
   "source": [
    "example_payload = {\n",
    "    \"gender\": \"Male\",\n",
    "    \"age\": 67.0,\n",
    "    \"ever_married\": \"Yes\",\n",
    "    \"work_type\": \"Self-employed\",\n",
    "    \"Residence_type\": \"Urban\",\n",
    "    \"avg_glucose_level\": 228.69,\n",
    "    \"bmi\": 36.6,\n",
    "    \"smoking_status\": \"smokes\",\n",
    "}\n",
    "get_stroke_prob(model, example_payload)"
   ]
  },
  {
   "cell_type": "markdown",
   "id": "64f600ac",
   "metadata": {},
   "source": [
    "# Test API"
   ]
  },
  {
   "cell_type": "code",
   "execution_count": null,
   "id": "e02b4342",
   "metadata": {},
   "outputs": [],
   "source": [
    "import requests\n",
    "\n",
    "API_URL = \"http://127.0.0.1:8000/predict\"\n",
    "# API_URL = \"https://stroke-example-1085259940267.us-central1.run.app/predict\"\n",
    "\n",
    "response = requests.post(API_URL, json=example_payload)\n",
    "response.text\n",
    "print(\"Status code:\", response.status_code)\n",
    "print(\"Response JSON:\", response.json())"
   ]
  }
 ],
 "metadata": {
  "kernelspec": {
   "display_name": "class_example",
   "language": "python",
   "name": "python3"
  },
  "language_info": {
   "codemirror_mode": {
    "name": "ipython",
    "version": 3
   },
   "file_extension": ".py",
   "mimetype": "text/x-python",
   "name": "python",
   "nbconvert_exporter": "python",
   "pygments_lexer": "ipython3",
   "version": "3.12.11"
  }
 },
 "nbformat": 4,
 "nbformat_minor": 5
}
