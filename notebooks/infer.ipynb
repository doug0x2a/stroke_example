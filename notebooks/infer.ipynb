{
 "cells": [
  {
   "cell_type": "markdown",
   "id": "93cd003f",
   "metadata": {},
   "source": [
    "# Test model in notebook"
   ]
  },
  {
   "cell_type": "code",
   "execution_count": null,
   "id": "47a5cde1",
   "metadata": {},
   "outputs": [],
   "source": [
    "import sys\n",
    "sys.path.append(\"../app\")\n",
    "from main import get_stroke_prob\n",
    "\n",
    "example_payload = {\n",
    "    \"gender\": \"Male\",\n",
    "    \"age\": 67.0,\n",
    "    \"ever_married\": \"Yes\",\n",
    "    \"work_type\": \"Self-employed\",\n",
    "    \"Residence_type\": \"Urban\",\n",
    "    \"avg_glucose_level\": 228.69,\n",
    "    \"bmi\": 36.6,\n",
    "    \"smoking_status\": \"smokes\",\n",
    "}\n",
    "get_stroke_prob(example_payload)"
   ]
  },
  {
   "cell_type": "markdown",
   "id": "64f600ac",
   "metadata": {},
   "source": [
    "# Test API"
   ]
  },
  {
   "cell_type": "code",
   "execution_count": null,
   "id": "e02b4342",
   "metadata": {},
   "outputs": [],
   "source": [
    "import requests\n",
    "\n",
    "API_URL = \"http://127.0.0.1:5000/predict\"\n",
    "\n",
    "response = requests.post(API_URL, json=example_payload)\n",
    "\n",
    "print(\"Status code:\", response.status_code)\n",
    "print(\"Response JSON:\", response.json())"
   ]
  }
 ],
 "metadata": {
  "kernelspec": {
   "display_name": "class_example",
   "language": "python",
   "name": "python3"
  },
  "language_info": {
   "codemirror_mode": {
    "name": "ipython",
    "version": 3
   },
   "file_extension": ".py",
   "mimetype": "text/x-python",
   "name": "python",
   "nbconvert_exporter": "python",
   "pygments_lexer": "ipython3",
   "version": "3.12.11"
  }
 },
 "nbformat": 4,
 "nbformat_minor": 5
}
