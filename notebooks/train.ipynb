{
 "cells": [
  {
   "cell_type": "code",
   "execution_count": null,
   "id": "7e3af14a",
   "metadata": {},
   "outputs": [],
   "source": [
    "import pandas as pd\n",
    "from sklearn.model_selection import train_test_split\n",
    "from sklearn.pipeline import Pipeline\n",
    "from sklearn.preprocessing import StandardScaler, OneHotEncoder\n",
    "from sklearn.linear_model import LogisticRegression\n",
    "from sklearn.ensemble import RandomForestClassifier\n",
    "from sklearn.compose import ColumnTransformer\n",
    "from sklearn.metrics import accuracy_score, roc_auc_score\n",
    "import joblib"
   ]
  },
  {
   "cell_type": "markdown",
   "id": "1cedca82",
   "metadata": {},
   "source": [
    "# Load Dataset\n",
    "We're loading the basic dataset and dropping any values where Smoking Status and BMI are not known for the sake of simplicity"
   ]
  },
  {
   "cell_type": "code",
   "execution_count": null,
   "id": "88a26ab9",
   "metadata": {},
   "outputs": [],
   "source": [
    "stroke_df = pd.read_csv(\"../data/healthcare-dataset-stroke-data.csv\")\n",
    "stroke_df = stroke_df[stroke_df[\"bmi\"].notna() & (stroke_df['smoking_status']!= \"Unknown\")]\n",
    "stroke_df = stroke_df.drop(columns=[\"id\"])\n",
    "stroke_df.head()"
   ]
  },
  {
   "cell_type": "code",
   "execution_count": null,
   "id": "48941644",
   "metadata": {},
   "outputs": [],
   "source": [
    "for col in [\"gender\", \"ever_married\", \"work_type\", \"Residence_type\", \"smoking_status\", \"hypertension\", \"heart_disease\"]:\n",
    "    print(f\"{col}: {stroke_df[col].unique()}\")\n",
    "for col in [\"age\", \"avg_glucose_level\", \"bmi\"]:\n",
    "    print(f\"{col}: min {stroke_df[col].min()}, max {stroke_df[col].max()}\")"
   ]
  },
  {
   "cell_type": "markdown",
   "id": "7f0b4d7b",
   "metadata": {},
   "source": [
    "# Split in to Training and Test Sets"
   ]
  },
  {
   "cell_type": "code",
   "execution_count": null,
   "id": "fc6f020b",
   "metadata": {},
   "outputs": [],
   "source": [
    "X = stroke_df.drop(columns=[\"stroke\"])\n",
    "y = stroke_df[\"stroke\"]\n",
    "\n",
    "X_train, X_test, y_train, y_test = train_test_split(\n",
    "    X, y,\n",
    "    test_size=0.2,\n",
    "    random_state=42,\n",
    "    stratify=y\n",
    ")"
   ]
  },
  {
   "cell_type": "markdown",
   "id": "d87f13b7",
   "metadata": {},
   "source": [
    "# Logistic Regression"
   ]
  },
  {
   "cell_type": "code",
   "execution_count": null,
   "id": "752847cc",
   "metadata": {},
   "outputs": [],
   "source": [
    "numeric_features = [\"age\", \"avg_glucose_level\", \"bmi\", \"hypertension\", \"heart_disease\"]\n",
    "categorical_features = [\"gender\", \"ever_married\", \"work_type\", \"Residence_type\", \"smoking_status\"]\n",
    "\n",
    "numeric_transformer = Pipeline(steps=[\n",
    "    (\"scaler\", StandardScaler())\n",
    "])\n",
    "\n",
    "categorical_transformer = Pipeline(steps=[\n",
    "    (\"onehot\", OneHotEncoder(handle_unknown=\"ignore\"))\n",
    "])\n",
    "\n",
    "# Combine them into a single preprocessor\n",
    "preprocessor = ColumnTransformer(\n",
    "    transformers=[\n",
    "        (\"num\", numeric_transformer, numeric_features),\n",
    "        (\"cat\", categorical_transformer, categorical_features)\n",
    "    ]\n",
    ")\n",
    "\n",
    "# Now make the full pipeline: preprocess → logistic regression\n",
    "log_reg_pipe = Pipeline(steps=[\n",
    "    (\"preprocessor\", preprocessor),\n",
    "    (\"classifier\", LogisticRegression(max_iter=1000, random_state=42))\n",
    "])\n",
    "log_reg_pipe.fit(X_train, y_train)"
   ]
  },
  {
   "cell_type": "code",
   "execution_count": null,
   "id": "4a8a933e",
   "metadata": {},
   "outputs": [],
   "source": [
    "y_pred = log_reg_pipe.predict(X_test)\n",
    "y_proba = log_reg_pipe.predict_proba(X_test)[:, 1]\n",
    "print(\"Accuracy:\", accuracy_score(y_test, y_pred))\n",
    "print(\"AUROC:\", roc_auc_score(y_test, y_proba))"
   ]
  },
  {
   "cell_type": "markdown",
   "id": "176b4f14",
   "metadata": {},
   "source": [
    "# Random Forest"
   ]
  },
  {
   "cell_type": "code",
   "execution_count": null,
   "id": "5b846e9e",
   "metadata": {},
   "outputs": [],
   "source": [
    "rf_pipe = Pipeline(steps=[\n",
    "    (\"preprocessor\", preprocessor),  # reuse same preprocessor\n",
    "    (\"classifier\", RandomForestClassifier(\n",
    "        random_state=42,\n",
    "        n_jobs=-1\n",
    "    ))\n",
    "])\n",
    "\n",
    "rf_pipe.fit(X_train, y_train)"
   ]
  },
  {
   "cell_type": "code",
   "execution_count": null,
   "id": "0a54b473",
   "metadata": {},
   "outputs": [],
   "source": [
    "y_pred = rf_pipe.predict(X_test)\n",
    "y_proba = rf_pipe.predict_proba(X_test)[:, 1]\n",
    "print(\"Accuracy:\", accuracy_score(y_test, y_pred))\n",
    "print(\"AUROC:\", roc_auc_score(y_test, y_proba))"
   ]
  },
  {
   "cell_type": "markdown",
   "id": "2533c484",
   "metadata": {},
   "source": [
    "# Save Model"
   ]
  },
  {
   "cell_type": "code",
   "execution_count": null,
   "id": "00645639",
   "metadata": {},
   "outputs": [],
   "source": [
    "joblib.dump(log_reg_pipe, \"../models/log_reg_model.joblib\")"
   ]
  }
 ],
 "metadata": {
  "kernelspec": {
   "display_name": "class_example",
   "language": "python",
   "name": "python3"
  },
  "language_info": {
   "codemirror_mode": {
    "name": "ipython",
    "version": 3
   },
   "file_extension": ".py",
   "mimetype": "text/x-python",
   "name": "python",
   "nbconvert_exporter": "python",
   "pygments_lexer": "ipython3",
   "version": "3.12.11"
  }
 },
 "nbformat": 4,
 "nbformat_minor": 5
}
